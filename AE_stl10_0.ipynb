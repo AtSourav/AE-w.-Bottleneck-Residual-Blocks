{
  "nbformat": 4,
  "nbformat_minor": 0,
  "metadata": {
    "colab": {
      "provenance": [],
      "machine_shape": "hm",
      "gpuType": "T4",
      "authorship_tag": "ABX9TyOttCoPNWFn27o24h1b3jm5",
      "include_colab_link": true
    },
    "kernelspec": {
      "name": "python3",
      "display_name": "Python 3"
    },
    "language_info": {
      "name": "python"
    },
    "accelerator": "GPU"
  },
  "cells": [
    {
      "cell_type": "markdown",
      "metadata": {
        "id": "view-in-github",
        "colab_type": "text"
      },
      "source": [
        "<a href=\"https://colab.research.google.com/github/AtSourav/AE-w.-Bottleneck-Residual-Blocks/blob/main/AE_stl10_0.ipynb\" target=\"_parent\"><img src=\"https://colab.research.google.com/assets/colab-badge.svg\" alt=\"Open In Colab\"/></a>"
      ]
    },
    {
      "cell_type": "code",
      "execution_count": 1,
      "metadata": {
        "id": "TzqQuE56Qwua"
      },
      "outputs": [],
      "source": [
        "import numpy as np\n",
        "import tensorflow as tf\n",
        "from tensorflow import keras\n",
        "from tensorflow import math\n",
        "import tensorflow_datasets as tfds\n",
        "from keras import losses\n",
        "from keras import layers\n",
        "from keras import utils\n",
        "from keras import metrics\n",
        "from keras import backend as K\n",
        "from keras import initializers\n",
        "\n",
        "import os\n",
        "import random\n",
        "import matplotlib.pyplot as plt"
      ]
    },
    {
      "cell_type": "code",
      "source": [
        "! git clone https://github.com/AtSourav/AE-w.-Bottleneck-Residual-Blocks"
      ],
      "metadata": {
        "id": "G6seL3jUQ9BN",
        "colab": {
          "base_uri": "https://localhost:8080/"
        },
        "outputId": "59aacc04-27ad-49b9-a35d-7a15d029ff4a"
      },
      "execution_count": 2,
      "outputs": [
        {
          "output_type": "stream",
          "name": "stdout",
          "text": [
            "Cloning into 'AE-w.-Bottleneck-Residual-Blocks'...\n",
            "remote: Enumerating objects: 51, done.\u001b[K\n",
            "remote: Counting objects: 100% (51/51), done.\u001b[K\n",
            "remote: Compressing objects: 100% (37/37), done.\u001b[K\n",
            "remote: Total 51 (delta 17), reused 43 (delta 12), pack-reused 0\u001b[K\n",
            "Receiving objects: 100% (51/51), 9.65 KiB | 247.00 KiB/s, done.\n",
            "Resolving deltas: 100% (17/17), done.\n"
          ]
        }
      ]
    },
    {
      "cell_type": "code",
      "source": [
        "%cd \"/content/AE-w.-Bottleneck-Residual-Blocks\""
      ],
      "metadata": {
        "colab": {
          "base_uri": "https://localhost:8080/"
        },
        "id": "mpyqftFGUAho",
        "outputId": "4e727b2c-6e6d-41df-9c93-b6e852e126a7"
      },
      "execution_count": 3,
      "outputs": [
        {
          "output_type": "stream",
          "name": "stdout",
          "text": [
            "/content/AE-w.-Bottleneck-Residual-Blocks\n"
          ]
        }
      ]
    },
    {
      "cell_type": "code",
      "source": [
        "import plotting_tools as plts\n",
        "import Bottleneck_residual_blocks as resblock"
      ],
      "metadata": {
        "id": "0mHyCe0gUAr2"
      },
      "execution_count": 4,
      "outputs": []
    },
    {
      "cell_type": "code",
      "source": [
        "img_ht = 96\n",
        "img_wd = 96\n",
        "\n",
        "input_size = (img_ht,img_wd,3)\n",
        "latent_dim = 512\n",
        "batch_size = 128\n",
        "\n",
        "initializer = initializers.HeNormal(seed=100)"
      ],
      "metadata": {
        "id": "Ha8JvEgHS208"
      },
      "execution_count": 5,
      "outputs": []
    },
    {
      "cell_type": "code",
      "source": [
        "encoder_input = keras.Input(shape=input_size)\n",
        "\n",
        "x = resblock.conv2d_block(64, 3, initializer)(encoder_input)\n",
        "\n",
        "x = resblock.conv2d_block(128, 3, initializer)(x)\n",
        "\n",
        "x = resblock.bottleneck_residual_conv2D_block(128, 3, 2, initializer, 'min')(x)\n",
        "\n",
        "x = resblock.conv2d_block(256, 3, initializer)(x)\n",
        "\n",
        "x = layers.MaxPooling2D(pool_size=(2, 2), strides=None, padding=\"valid\")(x)\n",
        "\n",
        "x = resblock.bottleneck_residual_conv2D_block(256, 3, 2, initializer, 'min', strides=(2,2))(x)\n",
        "\n",
        "x = resblock.conv2d_block(256, 3, kernel_initializer=initializer, strides = (2,2))(x)\n",
        "\n",
        "x = resblock.conv2dtrans_block(512,2,initializer)(x)\n",
        "\n",
        "x = resblock.bottleneck_residual_conv2Dtrans_block(512,3,3,initializer,use_bn='False')(x)\n",
        "\n",
        "x = resblock.bottleneck_residual_conv2D_block(512,0.5,3,initializer,'max')(x)\n",
        "\n",
        "x = layers.Flatten()(x)\n",
        "\n",
        "x = layers.Dense(2*latent_dim)(x)\n",
        "x = layers.BatchNormalization(axis=-1)(x)\n",
        "x = layers.ReLU()(x)\n",
        "\n",
        "\n",
        "z = layers.Dense(latent_dim, name=\"z\")(x)\n",
        "\n",
        "encoder = keras.Model(encoder_input, z, name='encoder')\n",
        "encoder.summary()"
      ],
      "metadata": {
        "colab": {
          "base_uri": "https://localhost:8080/"
        },
        "id": "7jA6O5mv5ZhO",
        "outputId": "0311b38f-67f6-4f10-875c-2e3a92d7b7dd"
      },
      "execution_count": 7,
      "outputs": [
        {
          "output_type": "stream",
          "name": "stdout",
          "text": [
            "Model: \"encoder\"\n",
            "_________________________________________________________________\n",
            " Layer (type)                Output Shape              Param #   \n",
            "=================================================================\n",
            " input_2 (InputLayer)        [(None, 96, 96, 3)]       0         \n",
            "                                                                 \n",
            " conv2d_block_10 (conv2d_bl  (None, 94, 94, 64)        1792      \n",
            " ock)                                                            \n",
            "                                                                 \n",
            " conv2d_block_11 (conv2d_bl  (None, 92, 92, 128)       73856     \n",
            " ock)                                                            \n",
            "                                                                 \n",
            " bottleneck_residual_conv2d  (None, 91, 91, 128)       18020     \n",
            " _block_3 (bottleneck_resid                                      \n",
            " ual_conv2D_block)                                               \n",
            "                                                                 \n",
            " conv2d_block_14 (conv2d_bl  (None, 89, 89, 256)       295168    \n",
            " ock)                                                            \n",
            "                                                                 \n",
            " max_pooling2d_1 (MaxPoolin  (None, 44, 44, 256)       0         \n",
            " g2D)                                                            \n",
            "                                                                 \n",
            " bottleneck_residual_conv2d  (None, 22, 22, 256)       72846     \n",
            " _block_4 (bottleneck_resid                                      \n",
            " ual_conv2D_block)                                               \n",
            "                                                                 \n",
            " conv2d_block_17 (conv2d_bl  (None, 10, 10, 256)       590080    \n",
            " ock)                                                            \n",
            "                                                                 \n",
            " conv2dtrans_block_3 (conv2  (None, 11, 11, 512)       524800    \n",
            " dtrans_block)                                                   \n",
            "                                                                 \n",
            " bottleneck_residual_conv2_  (None, 13, 13, 512)       435032    \n",
            " dtrans_block_1 (bottleneck                                      \n",
            " _residual_conv2Dtrans_bloc                                      \n",
            " k)                                                              \n",
            "                                                                 \n",
            " bottleneck_residual_conv2d  (None, 11, 11, 512)       10488320  \n",
            " _block_5 (bottleneck_resid                                      \n",
            " ual_conv2D_block)                                               \n",
            "                                                                 \n",
            " flatten_1 (Flatten)         (None, 61952)             0         \n",
            "                                                                 \n",
            " dense_1 (Dense)             (None, 1024)              63439872  \n",
            "                                                                 \n",
            " batch_normalization (Batch  (None, 1024)              4096      \n",
            " Normalization)                                                  \n",
            "                                                                 \n",
            " re_lu_1 (ReLU)              (None, 1024)              0         \n",
            "                                                                 \n",
            " z (Dense)                   (None, 512)               524800    \n",
            "                                                                 \n",
            "=================================================================\n",
            "Total params: 76468682 (291.70 MB)\n",
            "Trainable params: 76466634 (291.70 MB)\n",
            "Non-trainable params: 2048 (8.00 KB)\n",
            "_________________________________________________________________\n"
          ]
        }
      ]
    },
    {
      "cell_type": "code",
      "source": [],
      "metadata": {
        "id": "KlItfmO86YPd"
      },
      "execution_count": null,
      "outputs": []
    }
  ]
}