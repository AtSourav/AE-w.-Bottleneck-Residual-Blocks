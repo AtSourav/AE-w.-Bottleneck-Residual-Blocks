{
  "nbformat": 4,
  "nbformat_minor": 0,
  "metadata": {
    "colab": {
      "provenance": [],
      "machine_shape": "hm",
      "gpuType": "V100",
      "authorship_tag": "ABX9TyMsVM4TYbiFYVg9p4DedTrs",
      "include_colab_link": true
    },
    "kernelspec": {
      "name": "python3",
      "display_name": "Python 3"
    },
    "language_info": {
      "name": "python"
    },
    "accelerator": "GPU"
  },
  "cells": [
    {
      "cell_type": "markdown",
      "metadata": {
        "id": "view-in-github",
        "colab_type": "text"
      },
      "source": [
        "<a href=\"https://colab.research.google.com/github/AtSourav/AE-w.-Bottleneck-Residual-Blocks/blob/main/AE_cifar10_0.ipynb\" target=\"_parent\"><img src=\"https://colab.research.google.com/assets/colab-badge.svg\" alt=\"Open In Colab\"/></a>"
      ]
    },
    {
      "cell_type": "markdown",
      "source": [
        "For this notebook we shall use two custom python modules where we have defined some helper functions for plotting images, and more importantly some custom layers to implement residual blocks and in particular bottleneck residual blocks."
      ],
      "metadata": {
        "id": "HC9zBdL0Eqf5"
      }
    },
    {
      "cell_type": "code",
      "execution_count": 1,
      "metadata": {
        "id": "TzqQuE56Qwua"
      },
      "outputs": [],
      "source": [
        "import numpy as np\n",
        "import tensorflow as tf\n",
        "from tensorflow import keras\n",
        "from tensorflow import math\n",
        "import tensorflow_datasets as tfds\n",
        "from keras import losses\n",
        "from keras import layers\n",
        "from keras import utils\n",
        "from keras import metrics\n",
        "from keras import backend as K\n",
        "from keras import initializers\n",
        "\n",
        "import os\n",
        "import random\n",
        "import matplotlib.pyplot as plt"
      ]
    },
    {
      "cell_type": "markdown",
      "source": [
        "# **Cloning the github repo with custom modules**"
      ],
      "metadata": {
        "id": "eeQeW5WFEi2H"
      }
    },
    {
      "cell_type": "code",
      "source": [
        "! git clone https://github.com/AtSourav/AE-w.-Bottleneck-Residual-Blocks"
      ],
      "metadata": {
        "id": "G6seL3jUQ9BN",
        "colab": {
          "base_uri": "https://localhost:8080/"
        },
        "outputId": "4d44c5cf-6609-45f9-af5b-edf82c582994"
      },
      "execution_count": 2,
      "outputs": [
        {
          "output_type": "stream",
          "name": "stdout",
          "text": [
            "fatal: destination path 'AE-w.-Bottleneck-Residual-Blocks' already exists and is not an empty directory.\n"
          ]
        }
      ]
    },
    {
      "cell_type": "code",
      "source": [
        "%cd \"/content/AE-w.-Bottleneck-Residual-Blocks\""
      ],
      "metadata": {
        "colab": {
          "base_uri": "https://localhost:8080/"
        },
        "id": "mpyqftFGUAho",
        "outputId": "7de99964-d0c2-4f3e-e9b2-8ddaa86eec51"
      },
      "execution_count": 3,
      "outputs": [
        {
          "output_type": "stream",
          "name": "stdout",
          "text": [
            "/content/AE-w.-Bottleneck-Residual-Blocks\n"
          ]
        }
      ]
    },
    {
      "cell_type": "code",
      "source": [
        "import plotting_tools as plts\n",
        "import Bottleneck_residual_blocks as resblock"
      ],
      "metadata": {
        "id": "0mHyCe0gUAr2"
      },
      "execution_count": 4,
      "outputs": []
    },
    {
      "cell_type": "markdown",
      "source": [
        "# **Set-up, and dataset (cifar10) loading**"
      ],
      "metadata": {
        "id": "iChFDI1WE7oB"
      }
    },
    {
      "cell_type": "code",
      "source": [
        "img_ht = 32\n",
        "img_wd = 32\n",
        "\n",
        "input_size = (img_ht,img_wd,3)\n",
        "latent_dim = 256\n",
        "batch_size = 128\n",
        "\n",
        "initializer = initializers.HeNormal(seed=100)"
      ],
      "metadata": {
        "id": "Ha8JvEgHS208"
      },
      "execution_count": 5,
      "outputs": []
    },
    {
      "cell_type": "code",
      "source": [
        "ds = tfds.load('cifar10', split='train')\n",
        "ds2= tfds.load('cifar10', split='test')\n",
        "\n",
        "ds_to_np = list(ds.as_numpy_iterator())\n",
        "ds2_to_np = list(ds2.as_numpy_iterator())\n",
        "\n",
        "img_train = np.array([x['image'] for x in ds_to_np])\n",
        "img_valid = np.array([x['image'] for x in ds2_to_np])\n",
        "\n",
        "img_train = img_train/255\n",
        "img_valid = img_valid/255"
      ],
      "metadata": {
        "id": "MDunJPw_ZFlo"
      },
      "execution_count": 6,
      "outputs": []
    },
    {
      "cell_type": "markdown",
      "source": [
        "# **Building the model**"
      ],
      "metadata": {
        "id": "fdht408hFFil"
      }
    },
    {
      "cell_type": "code",
      "source": [
        "# we're using a combination of max and min pooling, min pooling in the skip connections in the residual blocks, max pooling otherwise\n",
        "\n",
        "# intuitively, max pooling should be ideal for lighter images on a dark background, min pooling for the opposite scenario\n",
        "\n",
        "encoder_input = keras.Input(shape=input_size)\n",
        "\n",
        "x = resblock.conv2d_block(64, 3, initializer)(encoder_input)\n",
        "\n",
        "x = resblock.conv2d_block(64, 3, initializer)(x)\n",
        "\n",
        "# ------------------------------------------------------------------\n",
        "\n",
        "x = resblock.conv2d_block(128, 3, initializer)(x)\n",
        "\n",
        "x = resblock.bottleneck_residual_conv2D_block(128, 2, 3, initializer, 'min', use_bn='False')(x)\n",
        "        # the second argument is the compress-ratio for the bottleneck, the third argument is the kernel_size\n",
        "\n",
        "x = resblock.bottleneck_residual_conv2D_block(128, 2, 3, initializer, 'min', use_bn='False')(x)\n",
        "\n",
        "x = resblock.bottleneck_residual_conv2D_block(128, 2, 3, initializer, 'min', use_bn='False')(x)\n",
        "\n",
        "x = resblock.bottleneck_residual_conv2D_block(128, 2, 3, initializer, 'min', use_bn='False')(x)\n",
        "\n",
        "# ------------------------------------------------------------------\n",
        "\n",
        "x = resblock.conv2d_block(256, 3, initializer)(x)\n",
        "\n",
        "x = resblock.bottleneck_residual_conv2D_block(256, 2, 3, initializer, 'min', use_bn='False')(x)\n",
        "\n",
        "x = resblock.bottleneck_residual_conv2D_block(256, 2, 3, initializer, 'min', use_bn='False')(x)\n",
        "\n",
        "x = resblock.bottleneck_residual_conv2D_block(256, 2, 3, initializer, 'min', use_bn='False')(x)\n",
        "\n",
        "x = resblock.bottleneck_residual_conv2D_block(256, 2, 2, initializer, 'min', use_bn='False')(x)\n",
        "\n",
        "# -------------------------------------------------------------------\n",
        "\n",
        "x = resblock.conv2d_block(512, 3, initializer)(x)\n",
        "\n",
        "x = resblock.bottleneck_residual_conv2D_block(512, 2, 3, initializer, 'min', use_bn='False')(x)\n",
        "\n",
        "x = resblock.bottleneck_residual_conv2D_block(512, 2, 3, initializer, 'min', use_bn='False')(x)\n",
        "\n",
        "x = resblock.bottleneck_residual_conv2D_block(512, 2, 2, initializer, 'min', use_bn='False')(x)\n",
        "\n",
        "x = resblock.bottleneck_residual_conv2D_block(512, 2, 2, initializer, 'min', use_bn='False')(x)\n",
        "\n",
        "# -------------------------------------------------------------------\n",
        "\n",
        "x = resblock.conv2d_block(1024, 1, initializer)(x)\n",
        "\n",
        "x = resblock.bottleneck_residual_conv2D_block(1024, 2, 1, initializer, 'min', use_bn='False')(x)\n",
        "\n",
        "# ...................................................................\n",
        "\n",
        "\n",
        "x = layers.Flatten()(x)\n",
        "\n",
        "x = layers.Dense(2*latent_dim)(x)\n",
        "x = layers.ReLU()(x)\n",
        "\n",
        "z = layers.Dense(latent_dim, name=\"z\")(x)\n",
        "\n",
        "encoder = keras.Model(encoder_input, z, name='encoder')\n",
        "encoder.summary()"
      ],
      "metadata": {
        "colab": {
          "base_uri": "https://localhost:8080/"
        },
        "id": "7jA6O5mv5ZhO",
        "outputId": "6fac11a5-c247-4675-acbb-ce54789259ad"
      },
      "execution_count": 7,
      "outputs": [
        {
          "output_type": "stream",
          "name": "stdout",
          "text": [
            "Model: \"encoder\"\n",
            "_________________________________________________________________\n",
            " Layer (type)                Output Shape              Param #   \n",
            "=================================================================\n",
            " input_1 (InputLayer)        [(None, 32, 32, 3)]       0         \n",
            "                                                                 \n",
            " conv2d_block (conv2d_block  (None, 30, 30, 64)        2048      \n",
            " )                                                               \n",
            "                                                                 \n",
            " conv2d_block_1 (conv2d_blo  (None, 28, 28, 64)        37184     \n",
            " ck)                                                             \n",
            "                                                                 \n",
            " conv2d_block_2 (conv2d_blo  (None, 26, 26, 128)       74368     \n",
            " ck)                                                             \n",
            "                                                                 \n",
            " bottleneck_residual_conv2d  (None, 24, 24, 128)       53504     \n",
            " _block (bottleneck_residua                                      \n",
            " l_conv2D_block)                                                 \n",
            "                                                                 \n",
            " bottleneck_residual_conv2d  (None, 22, 22, 128)       53504     \n",
            " _block_1 (bottleneck_resid                                      \n",
            " ual_conv2D_block)                                               \n",
            "                                                                 \n",
            " bottleneck_residual_conv2d  (None, 20, 20, 128)       53504     \n",
            " _block_2 (bottleneck_resid                                      \n",
            " ual_conv2D_block)                                               \n",
            "                                                                 \n",
            " bottleneck_residual_conv2d  (None, 18, 18, 128)       53504     \n",
            " _block_3 (bottleneck_resid                                      \n",
            " ual_conv2D_block)                                               \n",
            "                                                                 \n",
            " conv2d_block_11 (conv2d_bl  (None, 16, 16, 256)       296192    \n",
            " ock)                                                            \n",
            "                                                                 \n",
            " bottleneck_residual_conv2d  (None, 14, 14, 256)       213504    \n",
            " _block_4 (bottleneck_resid                                      \n",
            " ual_conv2D_block)                                               \n",
            "                                                                 \n",
            " bottleneck_residual_conv2d  (None, 12, 12, 256)       213504    \n",
            " _block_5 (bottleneck_resid                                      \n",
            " ual_conv2D_block)                                               \n",
            "                                                                 \n",
            " bottleneck_residual_conv2d  (None, 10, 10, 256)       213504    \n",
            " _block_6 (bottleneck_resid                                      \n",
            " ual_conv2D_block)                                               \n",
            "                                                                 \n",
            " bottleneck_residual_conv2d  (None, 9, 9, 256)         131584    \n",
            " _block_7 (bottleneck_resid                                      \n",
            " ual_conv2D_block)                                               \n",
            "                                                                 \n",
            " conv2d_block_20 (conv2d_bl  (None, 7, 7, 512)         1182208   \n",
            " ock)                                                            \n",
            "                                                                 \n",
            " bottleneck_residual_conv2d  (None, 5, 5, 512)         852992    \n",
            " _block_8 (bottleneck_resid                                      \n",
            " ual_conv2D_block)                                               \n",
            "                                                                 \n",
            " bottleneck_residual_conv2d  (None, 3, 3, 512)         852992    \n",
            " _block_9 (bottleneck_resid                                      \n",
            " ual_conv2D_block)                                               \n",
            "                                                                 \n",
            " bottleneck_residual_conv2d  (None, 2, 2, 512)         525312    \n",
            " _block_10 (bottleneck_resi                                      \n",
            " dual_conv2D_block)                                              \n",
            "                                                                 \n",
            " bottleneck_residual_conv2d  (None, 1, 1, 512)         525312    \n",
            " _block_11 (bottleneck_resi                                      \n",
            " dual_conv2D_block)                                              \n",
            "                                                                 \n",
            " conv2d_block_29 (conv2d_bl  (None, 1, 1, 1024)        529408    \n",
            " ock)                                                            \n",
            "                                                                 \n",
            " bottleneck_residual_conv2d  (None, 1, 1, 1024)        1312768   \n",
            " _block_12 (bottleneck_resi                                      \n",
            " dual_conv2D_block)                                              \n",
            "                                                                 \n",
            " flatten (Flatten)           (None, 1024)              0         \n",
            "                                                                 \n",
            " dense (Dense)               (None, 512)               524800    \n",
            "                                                                 \n",
            " re_lu_45 (ReLU)             (None, 512)               0         \n",
            "                                                                 \n",
            " z (Dense)                   (None, 256)               131328    \n",
            "                                                                 \n",
            "=================================================================\n",
            "Total params: 7833024 (29.88 MB)\n",
            "Trainable params: 7828928 (29.86 MB)\n",
            "Non-trainable params: 4096 (16.00 KB)\n",
            "_________________________________________________________________\n"
          ]
        }
      ]
    },
    {
      "cell_type": "code",
      "source": [
        "latent_input = keras.Input(shape=(latent_dim,))\n",
        "\n",
        "x = layers.Dense(2*latent_dim)(latent_input)\n",
        "x = layers.ReLU()(x)\n",
        "\n",
        "#x = layers.Dense(4*latent_dim)(x)\n",
        "#x = layers.ReLU()(x)\n",
        "\n",
        "x = layers.Dense(1*1*1024)(x)\n",
        "x = layers.ReLU()(x)\n",
        "\n",
        "x = layers.Reshape((1,1,1024))(x)\n",
        "\n",
        "# ---------------------------------------------------\n",
        "\n",
        "#x = resblock.conv2dtrans_block(1024, 2, initializer, strides=(2,2))(x)\n",
        "\n",
        "x = resblock.bottleneck_residual_conv2Dtrans_block(1024, 2, 2, initializer)(x)\n",
        "\n",
        "# ---------------------------------------------------\n",
        "\n",
        "x = resblock.conv2dtrans_block(512, 3, initializer)(x)\n",
        "\n",
        "x = resblock.bottleneck_residual_conv2Dtrans_block(512, 2, 3, initializer)(x)\n",
        "\n",
        "# ---------------------------------------------------\n",
        "\n",
        "x = resblock.conv2dtrans_block(512, 3, initializer, strides=(2,2))(x)\n",
        "\n",
        "x = resblock.bottleneck_residual_conv2Dtrans_block(512, 2, 3, initializer)(x)\n",
        "\n",
        "# ---------------------------------------------------\n",
        "\n",
        "x = resblock.conv2dtrans_block(256, 3, initializer)(x)\n",
        "\n",
        "x = resblock.bottleneck_residual_conv2Dtrans_block(256, 2, 3, initializer)(x)\n",
        "\n",
        "x = layers.UpSampling2D(size=(2, 2), interpolation='bilinear')(x)\n",
        "\n",
        "# ---------------------------------------------------\n",
        "\n",
        "x = resblock.bottleneck_residual_conv2D_block(256, 2, 2, initializer, 'min')(x)\n",
        "\n",
        "# ---------------------------------------------------\n",
        "\n",
        "x = resblock.conv2d_block(128, 3, initializer)(x)\n",
        "\n",
        "x = resblock.bottleneck_residual_conv2D_block(128, 2, 2, initializer, 'min')(x)\n",
        "\n",
        "# ----------------------------------------------------\n",
        "\n",
        "x = resblock.conv2d_block(64, 2, initializer)(x)\n",
        "\n",
        "x = resblock.bottleneck_residual_conv2D_block(64, 2, 2, initializer, 'min')(x)\n",
        "\n",
        "# -----------------------------------------------------\n",
        "\n",
        "decoder_output = layers.Conv2D(3, 1, activation='sigmoid', padding='valid', kernel_initializer=initializer)(x)\n",
        "\n",
        "decoder = keras.Model(latent_input, decoder_output, name=\"decoder\")\n",
        "decoder.summary()"
      ],
      "metadata": {
        "colab": {
          "base_uri": "https://localhost:8080/"
        },
        "id": "KlItfmO86YPd",
        "outputId": "36c5ab96-a6ea-4f92-b28e-34b0ea2351e0"
      },
      "execution_count": 8,
      "outputs": [
        {
          "output_type": "stream",
          "name": "stdout",
          "text": [
            "Model: \"decoder\"\n",
            "_________________________________________________________________\n",
            " Layer (type)                Output Shape              Param #   \n",
            "=================================================================\n",
            " input_2 (InputLayer)        [(None, 256)]             0         \n",
            "                                                                 \n",
            " dense_1 (Dense)             (None, 512)               131584    \n",
            "                                                                 \n",
            " re_lu_46 (ReLU)             (None, 512)               0         \n",
            "                                                                 \n",
            " dense_2 (Dense)             (None, 1024)              525312    \n",
            "                                                                 \n",
            " re_lu_47 (ReLU)             (None, 1024)              0         \n",
            "                                                                 \n",
            " reshape (Reshape)           (None, 1, 1, 1024)        0         \n",
            "                                                                 \n",
            " bottleneck_residual_conv2_  (None, 2, 2, 1024)        2103296   \n",
            " dtrans_block (bottleneck_r                                      \n",
            " esidual_conv2Dtrans_block)                                      \n",
            "                                                                 \n",
            " conv2dtrans_block_2 (conv2  (None, 4, 4, 512)         4721152   \n",
            " dtrans_block)                                                   \n",
            "                                                                 \n",
            " bottleneck_residual_conv2_  (None, 6, 6, 512)         855040    \n",
            " dtrans_block_1 (bottleneck                                      \n",
            " _residual_conv2Dtrans_bloc                                      \n",
            " k)                                                              \n",
            "                                                                 \n",
            " conv2dtrans_block_5 (conv2  (None, 13, 13, 512)       2361856   \n",
            " dtrans_block)                                                   \n",
            "                                                                 \n",
            " bottleneck_residual_conv2_  (None, 15, 15, 512)       855040    \n",
            " dtrans_block_2 (bottleneck                                      \n",
            " _residual_conv2Dtrans_bloc                                      \n",
            " k)                                                              \n",
            "                                                                 \n",
            " conv2dtrans_block_8 (conv2  (None, 17, 17, 256)       1180928   \n",
            " dtrans_block)                                                   \n",
            "                                                                 \n",
            " bottleneck_residual_conv2_  (None, 19, 19, 256)       214528    \n",
            " dtrans_block_3 (bottleneck                                      \n",
            " _residual_conv2Dtrans_bloc                                      \n",
            " k)                                                              \n",
            "                                                                 \n",
            " up_sampling2d (UpSampling2  (None, 38, 38, 256)       0         \n",
            " D)                                                              \n",
            "                                                                 \n",
            " bottleneck_residual_conv2d  (None, 37, 37, 256)       132608    \n",
            " _block_13 (bottleneck_resi                                      \n",
            " dual_conv2D_block)                                              \n",
            "                                                                 \n",
            " conv2d_block_34 (conv2d_bl  (None, 35, 35, 128)       295552    \n",
            " ock)                                                            \n",
            "                                                                 \n",
            " bottleneck_residual_conv2d  (None, 34, 34, 128)       33536     \n",
            " _block_14 (bottleneck_resi                                      \n",
            " dual_conv2D_block)                                              \n",
            "                                                                 \n",
            " conv2d_block_37 (conv2d_bl  (None, 33, 33, 64)        33088     \n",
            " ock)                                                            \n",
            "                                                                 \n",
            " bottleneck_residual_conv2d  (None, 32, 32, 64)        8576      \n",
            " _block_15 (bottleneck_resi                                      \n",
            " dual_conv2D_block)                                              \n",
            "                                                                 \n",
            " conv2d_56 (Conv2D)          (None, 32, 32, 3)         195       \n",
            "                                                                 \n",
            "=================================================================\n",
            "Total params: 13452291 (51.32 MB)\n",
            "Trainable params: 13443843 (51.28 MB)\n",
            "Non-trainable params: 8448 (33.00 KB)\n",
            "_________________________________________________________________\n"
          ]
        }
      ]
    },
    {
      "cell_type": "code",
      "source": [
        "decoder_out = decoder(encoder(encoder_input))\n",
        "AE = keras.Model(encoder_input, decoder_out, name='AE')\n",
        "\n",
        "AE.summary()"
      ],
      "metadata": {
        "colab": {
          "base_uri": "https://localhost:8080/"
        },
        "id": "lQ0NZNaMzvso",
        "outputId": "b991d320-858c-4745-dbe1-bb392f07f1d1"
      },
      "execution_count": 9,
      "outputs": [
        {
          "output_type": "stream",
          "name": "stdout",
          "text": [
            "Model: \"AE\"\n",
            "_________________________________________________________________\n",
            " Layer (type)                Output Shape              Param #   \n",
            "=================================================================\n",
            " input_1 (InputLayer)        [(None, 32, 32, 3)]       0         \n",
            "                                                                 \n",
            " encoder (Functional)        (None, 256)               7833024   \n",
            "                                                                 \n",
            " decoder (Functional)        (None, 32, 32, 3)         13452291  \n",
            "                                                                 \n",
            "=================================================================\n",
            "Total params: 21285315 (81.20 MB)\n",
            "Trainable params: 21272771 (81.15 MB)\n",
            "Non-trainable params: 12544 (49.00 KB)\n",
            "_________________________________________________________________\n"
          ]
        }
      ]
    },
    {
      "cell_type": "markdown",
      "source": [
        "# **Training**"
      ],
      "metadata": {
        "id": "Bq9g1cgqFX7Z"
      }
    },
    {
      "cell_type": "code",
      "source": [
        "K.clear_session()"
      ],
      "metadata": {
        "id": "BoiXH9Ot6e2s"
      },
      "execution_count": 12,
      "outputs": []
    },
    {
      "cell_type": "code",
      "source": [
        "optim = keras.optimizers.Adam(learning_rate = 0.0005)\n",
        "AE.compile(optimizer=optim,loss='mse')\n",
        "history = AE.fit(img_train, img_train, batch_size=batch_size, validation_data=(img_valid, img_valid), epochs=10, steps_per_epoch=None)"
      ],
      "metadata": {
        "colab": {
          "base_uri": "https://localhost:8080/"
        },
        "id": "nw58ZMVW6rhQ",
        "outputId": "833e4954-d5aa-49a2-8c6a-614369964e5c"
      },
      "execution_count": null,
      "outputs": [
        {
          "output_type": "stream",
          "name": "stdout",
          "text": [
            "Epoch 1/10\n",
            "391/391 [==============================] - 112s 185ms/step - loss: 0.0468 - val_loss: 0.0746\n",
            "Epoch 2/10\n",
            "391/391 [==============================] - 63s 162ms/step - loss: 0.0379 - val_loss: 0.0588\n",
            "Epoch 3/10\n",
            "391/391 [==============================] - 63s 162ms/step - loss: 0.0358 - val_loss: 0.0398\n",
            "Epoch 4/10\n",
            "391/391 [==============================] - 63s 162ms/step - loss: 0.0337 - val_loss: 0.0369\n",
            "Epoch 5/10\n",
            "341/391 [=========================>....] - ETA: 7s - loss: 0.0335"
          ]
        }
      ]
    },
    {
      "cell_type": "code",
      "source": [
        "optim = keras.optimizers.Adam(learning_rate = 0.0001)\n",
        "AE.compile(optimizer=optim,loss='mse')\n",
        "history2 = AE.fit(img_train, img_train, batch_size=batch_size, validation_data=(img_valid, img_valid), epochs=10, steps_per_epoch=None)"
      ],
      "metadata": {
        "colab": {
          "base_uri": "https://localhost:8080/",
          "height": 426
        },
        "id": "rFBuXV9Y635K",
        "outputId": "1d119e13-4f05-4d0f-a0c2-27430264b200"
      },
      "execution_count": 11,
      "outputs": [
        {
          "output_type": "stream",
          "name": "stdout",
          "text": [
            "Epoch 1/10\n",
            "391/391 [==============================] - 77s 140ms/step - loss: 0.0204 - val_loss: 0.0202\n",
            "Epoch 2/10\n",
            "132/391 [=========>....................] - ETA: 33s - loss: 0.0202"
          ]
        },
        {
          "output_type": "error",
          "ename": "KeyboardInterrupt",
          "evalue": "ignored",
          "traceback": [
            "\u001b[0;31m---------------------------------------------------------------------------\u001b[0m",
            "\u001b[0;31mKeyboardInterrupt\u001b[0m                         Traceback (most recent call last)",
            "\u001b[0;32m<ipython-input-11-203d13140611>\u001b[0m in \u001b[0;36m<cell line: 3>\u001b[0;34m()\u001b[0m\n\u001b[1;32m      1\u001b[0m \u001b[0moptim\u001b[0m \u001b[0;34m=\u001b[0m \u001b[0mkeras\u001b[0m\u001b[0;34m.\u001b[0m\u001b[0moptimizers\u001b[0m\u001b[0;34m.\u001b[0m\u001b[0mAdam\u001b[0m\u001b[0;34m(\u001b[0m\u001b[0mlearning_rate\u001b[0m \u001b[0;34m=\u001b[0m \u001b[0;36m0.0001\u001b[0m\u001b[0;34m)\u001b[0m\u001b[0;34m\u001b[0m\u001b[0;34m\u001b[0m\u001b[0m\n\u001b[1;32m      2\u001b[0m \u001b[0mAE\u001b[0m\u001b[0;34m.\u001b[0m\u001b[0mcompile\u001b[0m\u001b[0;34m(\u001b[0m\u001b[0moptimizer\u001b[0m\u001b[0;34m=\u001b[0m\u001b[0moptim\u001b[0m\u001b[0;34m,\u001b[0m\u001b[0mloss\u001b[0m\u001b[0;34m=\u001b[0m\u001b[0;34m'mse'\u001b[0m\u001b[0;34m)\u001b[0m\u001b[0;34m\u001b[0m\u001b[0;34m\u001b[0m\u001b[0m\n\u001b[0;32m----> 3\u001b[0;31m \u001b[0mhistory2\u001b[0m \u001b[0;34m=\u001b[0m \u001b[0mAE\u001b[0m\u001b[0;34m.\u001b[0m\u001b[0mfit\u001b[0m\u001b[0;34m(\u001b[0m\u001b[0mimg_train\u001b[0m\u001b[0;34m,\u001b[0m \u001b[0mimg_train\u001b[0m\u001b[0;34m,\u001b[0m \u001b[0mbatch_size\u001b[0m\u001b[0;34m=\u001b[0m\u001b[0mbatch_size\u001b[0m\u001b[0;34m,\u001b[0m \u001b[0mvalidation_data\u001b[0m\u001b[0;34m=\u001b[0m\u001b[0;34m(\u001b[0m\u001b[0mimg_valid\u001b[0m\u001b[0;34m,\u001b[0m \u001b[0mimg_valid\u001b[0m\u001b[0;34m)\u001b[0m\u001b[0;34m,\u001b[0m \u001b[0mepochs\u001b[0m\u001b[0;34m=\u001b[0m\u001b[0;36m10\u001b[0m\u001b[0;34m,\u001b[0m \u001b[0msteps_per_epoch\u001b[0m\u001b[0;34m=\u001b[0m\u001b[0;32mNone\u001b[0m\u001b[0;34m)\u001b[0m\u001b[0;34m\u001b[0m\u001b[0;34m\u001b[0m\u001b[0m\n\u001b[0m",
            "\u001b[0;32m/usr/local/lib/python3.10/dist-packages/keras/src/utils/traceback_utils.py\u001b[0m in \u001b[0;36merror_handler\u001b[0;34m(*args, **kwargs)\u001b[0m\n\u001b[1;32m     63\u001b[0m         \u001b[0mfiltered_tb\u001b[0m \u001b[0;34m=\u001b[0m \u001b[0;32mNone\u001b[0m\u001b[0;34m\u001b[0m\u001b[0;34m\u001b[0m\u001b[0m\n\u001b[1;32m     64\u001b[0m         \u001b[0;32mtry\u001b[0m\u001b[0;34m:\u001b[0m\u001b[0;34m\u001b[0m\u001b[0;34m\u001b[0m\u001b[0m\n\u001b[0;32m---> 65\u001b[0;31m             \u001b[0;32mreturn\u001b[0m \u001b[0mfn\u001b[0m\u001b[0;34m(\u001b[0m\u001b[0;34m*\u001b[0m\u001b[0margs\u001b[0m\u001b[0;34m,\u001b[0m \u001b[0;34m**\u001b[0m\u001b[0mkwargs\u001b[0m\u001b[0;34m)\u001b[0m\u001b[0;34m\u001b[0m\u001b[0;34m\u001b[0m\u001b[0m\n\u001b[0m\u001b[1;32m     66\u001b[0m         \u001b[0;32mexcept\u001b[0m \u001b[0mException\u001b[0m \u001b[0;32mas\u001b[0m \u001b[0me\u001b[0m\u001b[0;34m:\u001b[0m\u001b[0;34m\u001b[0m\u001b[0;34m\u001b[0m\u001b[0m\n\u001b[1;32m     67\u001b[0m             \u001b[0mfiltered_tb\u001b[0m \u001b[0;34m=\u001b[0m \u001b[0m_process_traceback_frames\u001b[0m\u001b[0;34m(\u001b[0m\u001b[0me\u001b[0m\u001b[0;34m.\u001b[0m\u001b[0m__traceback__\u001b[0m\u001b[0;34m)\u001b[0m\u001b[0;34m\u001b[0m\u001b[0;34m\u001b[0m\u001b[0m\n",
            "\u001b[0;32m/usr/local/lib/python3.10/dist-packages/keras/src/engine/training.py\u001b[0m in \u001b[0;36mfit\u001b[0;34m(self, x, y, batch_size, epochs, verbose, callbacks, validation_split, validation_data, shuffle, class_weight, sample_weight, initial_epoch, steps_per_epoch, validation_steps, validation_batch_size, validation_freq, max_queue_size, workers, use_multiprocessing)\u001b[0m\n\u001b[1;32m   1805\u001b[0m                         ):\n\u001b[1;32m   1806\u001b[0m                             \u001b[0mcallbacks\u001b[0m\u001b[0;34m.\u001b[0m\u001b[0mon_train_batch_begin\u001b[0m\u001b[0;34m(\u001b[0m\u001b[0mstep\u001b[0m\u001b[0;34m)\u001b[0m\u001b[0;34m\u001b[0m\u001b[0;34m\u001b[0m\u001b[0m\n\u001b[0;32m-> 1807\u001b[0;31m                             \u001b[0mtmp_logs\u001b[0m \u001b[0;34m=\u001b[0m \u001b[0mself\u001b[0m\u001b[0;34m.\u001b[0m\u001b[0mtrain_function\u001b[0m\u001b[0;34m(\u001b[0m\u001b[0miterator\u001b[0m\u001b[0;34m)\u001b[0m\u001b[0;34m\u001b[0m\u001b[0;34m\u001b[0m\u001b[0m\n\u001b[0m\u001b[1;32m   1808\u001b[0m                             \u001b[0;32mif\u001b[0m \u001b[0mdata_handler\u001b[0m\u001b[0;34m.\u001b[0m\u001b[0mshould_sync\u001b[0m\u001b[0;34m:\u001b[0m\u001b[0;34m\u001b[0m\u001b[0;34m\u001b[0m\u001b[0m\n\u001b[1;32m   1809\u001b[0m                                 \u001b[0mcontext\u001b[0m\u001b[0;34m.\u001b[0m\u001b[0masync_wait\u001b[0m\u001b[0;34m(\u001b[0m\u001b[0;34m)\u001b[0m\u001b[0;34m\u001b[0m\u001b[0;34m\u001b[0m\u001b[0m\n",
            "\u001b[0;32m/usr/local/lib/python3.10/dist-packages/tensorflow/python/util/traceback_utils.py\u001b[0m in \u001b[0;36merror_handler\u001b[0;34m(*args, **kwargs)\u001b[0m\n\u001b[1;32m    148\u001b[0m     \u001b[0mfiltered_tb\u001b[0m \u001b[0;34m=\u001b[0m \u001b[0;32mNone\u001b[0m\u001b[0;34m\u001b[0m\u001b[0;34m\u001b[0m\u001b[0m\n\u001b[1;32m    149\u001b[0m     \u001b[0;32mtry\u001b[0m\u001b[0;34m:\u001b[0m\u001b[0;34m\u001b[0m\u001b[0;34m\u001b[0m\u001b[0m\n\u001b[0;32m--> 150\u001b[0;31m       \u001b[0;32mreturn\u001b[0m \u001b[0mfn\u001b[0m\u001b[0;34m(\u001b[0m\u001b[0;34m*\u001b[0m\u001b[0margs\u001b[0m\u001b[0;34m,\u001b[0m \u001b[0;34m**\u001b[0m\u001b[0mkwargs\u001b[0m\u001b[0;34m)\u001b[0m\u001b[0;34m\u001b[0m\u001b[0;34m\u001b[0m\u001b[0m\n\u001b[0m\u001b[1;32m    151\u001b[0m     \u001b[0;32mexcept\u001b[0m \u001b[0mException\u001b[0m \u001b[0;32mas\u001b[0m \u001b[0me\u001b[0m\u001b[0;34m:\u001b[0m\u001b[0;34m\u001b[0m\u001b[0;34m\u001b[0m\u001b[0m\n\u001b[1;32m    152\u001b[0m       \u001b[0mfiltered_tb\u001b[0m \u001b[0;34m=\u001b[0m \u001b[0m_process_traceback_frames\u001b[0m\u001b[0;34m(\u001b[0m\u001b[0me\u001b[0m\u001b[0;34m.\u001b[0m\u001b[0m__traceback__\u001b[0m\u001b[0;34m)\u001b[0m\u001b[0;34m\u001b[0m\u001b[0;34m\u001b[0m\u001b[0m\n",
            "\u001b[0;32m/usr/local/lib/python3.10/dist-packages/tensorflow/python/eager/polymorphic_function/polymorphic_function.py\u001b[0m in \u001b[0;36m__call__\u001b[0;34m(self, *args, **kwds)\u001b[0m\n\u001b[1;32m    830\u001b[0m \u001b[0;34m\u001b[0m\u001b[0m\n\u001b[1;32m    831\u001b[0m       \u001b[0;32mwith\u001b[0m \u001b[0mOptionalXlaContext\u001b[0m\u001b[0;34m(\u001b[0m\u001b[0mself\u001b[0m\u001b[0;34m.\u001b[0m\u001b[0m_jit_compile\u001b[0m\u001b[0;34m)\u001b[0m\u001b[0;34m:\u001b[0m\u001b[0;34m\u001b[0m\u001b[0;34m\u001b[0m\u001b[0m\n\u001b[0;32m--> 832\u001b[0;31m         \u001b[0mresult\u001b[0m \u001b[0;34m=\u001b[0m \u001b[0mself\u001b[0m\u001b[0;34m.\u001b[0m\u001b[0m_call\u001b[0m\u001b[0;34m(\u001b[0m\u001b[0;34m*\u001b[0m\u001b[0margs\u001b[0m\u001b[0;34m,\u001b[0m \u001b[0;34m**\u001b[0m\u001b[0mkwds\u001b[0m\u001b[0;34m)\u001b[0m\u001b[0;34m\u001b[0m\u001b[0;34m\u001b[0m\u001b[0m\n\u001b[0m\u001b[1;32m    833\u001b[0m \u001b[0;34m\u001b[0m\u001b[0m\n\u001b[1;32m    834\u001b[0m       \u001b[0mnew_tracing_count\u001b[0m \u001b[0;34m=\u001b[0m \u001b[0mself\u001b[0m\u001b[0;34m.\u001b[0m\u001b[0mexperimental_get_tracing_count\u001b[0m\u001b[0;34m(\u001b[0m\u001b[0;34m)\u001b[0m\u001b[0;34m\u001b[0m\u001b[0;34m\u001b[0m\u001b[0m\n",
            "\u001b[0;32m/usr/local/lib/python3.10/dist-packages/tensorflow/python/eager/polymorphic_function/polymorphic_function.py\u001b[0m in \u001b[0;36m_call\u001b[0;34m(self, *args, **kwds)\u001b[0m\n\u001b[1;32m    866\u001b[0m       \u001b[0;31m# In this case we have created variables on the first call, so we run the\u001b[0m\u001b[0;34m\u001b[0m\u001b[0;34m\u001b[0m\u001b[0m\n\u001b[1;32m    867\u001b[0m       \u001b[0;31m# defunned version which is guaranteed to never create variables.\u001b[0m\u001b[0;34m\u001b[0m\u001b[0;34m\u001b[0m\u001b[0m\n\u001b[0;32m--> 868\u001b[0;31m       return tracing_compilation.call_function(\n\u001b[0m\u001b[1;32m    869\u001b[0m           \u001b[0margs\u001b[0m\u001b[0;34m,\u001b[0m \u001b[0mkwds\u001b[0m\u001b[0;34m,\u001b[0m \u001b[0mself\u001b[0m\u001b[0;34m.\u001b[0m\u001b[0m_no_variable_creation_config\u001b[0m\u001b[0;34m\u001b[0m\u001b[0;34m\u001b[0m\u001b[0m\n\u001b[1;32m    870\u001b[0m       )\n",
            "\u001b[0;32m/usr/local/lib/python3.10/dist-packages/tensorflow/python/eager/polymorphic_function/tracing_compilation.py\u001b[0m in \u001b[0;36mcall_function\u001b[0;34m(args, kwargs, tracing_options)\u001b[0m\n\u001b[1;32m    137\u001b[0m   \u001b[0mbound_args\u001b[0m \u001b[0;34m=\u001b[0m \u001b[0mfunction\u001b[0m\u001b[0;34m.\u001b[0m\u001b[0mfunction_type\u001b[0m\u001b[0;34m.\u001b[0m\u001b[0mbind\u001b[0m\u001b[0;34m(\u001b[0m\u001b[0;34m*\u001b[0m\u001b[0margs\u001b[0m\u001b[0;34m,\u001b[0m \u001b[0;34m**\u001b[0m\u001b[0mkwargs\u001b[0m\u001b[0;34m)\u001b[0m\u001b[0;34m\u001b[0m\u001b[0;34m\u001b[0m\u001b[0m\n\u001b[1;32m    138\u001b[0m   \u001b[0mflat_inputs\u001b[0m \u001b[0;34m=\u001b[0m \u001b[0mfunction\u001b[0m\u001b[0;34m.\u001b[0m\u001b[0mfunction_type\u001b[0m\u001b[0;34m.\u001b[0m\u001b[0munpack_inputs\u001b[0m\u001b[0;34m(\u001b[0m\u001b[0mbound_args\u001b[0m\u001b[0;34m)\u001b[0m\u001b[0;34m\u001b[0m\u001b[0;34m\u001b[0m\u001b[0m\n\u001b[0;32m--> 139\u001b[0;31m   return function._call_flat(  # pylint: disable=protected-access\n\u001b[0m\u001b[1;32m    140\u001b[0m       \u001b[0mflat_inputs\u001b[0m\u001b[0;34m,\u001b[0m \u001b[0mcaptured_inputs\u001b[0m\u001b[0;34m=\u001b[0m\u001b[0mfunction\u001b[0m\u001b[0;34m.\u001b[0m\u001b[0mcaptured_inputs\u001b[0m\u001b[0;34m\u001b[0m\u001b[0;34m\u001b[0m\u001b[0m\n\u001b[1;32m    141\u001b[0m   )\n",
            "\u001b[0;32m/usr/local/lib/python3.10/dist-packages/tensorflow/python/eager/polymorphic_function/concrete_function.py\u001b[0m in \u001b[0;36m_call_flat\u001b[0;34m(self, tensor_inputs, captured_inputs)\u001b[0m\n\u001b[1;32m   1321\u001b[0m         and executing_eagerly):\n\u001b[1;32m   1322\u001b[0m       \u001b[0;31m# No tape is watching; skip to running the function.\u001b[0m\u001b[0;34m\u001b[0m\u001b[0;34m\u001b[0m\u001b[0m\n\u001b[0;32m-> 1323\u001b[0;31m       \u001b[0;32mreturn\u001b[0m \u001b[0mself\u001b[0m\u001b[0;34m.\u001b[0m\u001b[0m_inference_function\u001b[0m\u001b[0;34m.\u001b[0m\u001b[0mcall_preflattened\u001b[0m\u001b[0;34m(\u001b[0m\u001b[0margs\u001b[0m\u001b[0;34m)\u001b[0m\u001b[0;34m\u001b[0m\u001b[0;34m\u001b[0m\u001b[0m\n\u001b[0m\u001b[1;32m   1324\u001b[0m     forward_backward = self._select_forward_and_backward_functions(\n\u001b[1;32m   1325\u001b[0m         \u001b[0margs\u001b[0m\u001b[0;34m,\u001b[0m\u001b[0;34m\u001b[0m\u001b[0;34m\u001b[0m\u001b[0m\n",
            "\u001b[0;32m/usr/local/lib/python3.10/dist-packages/tensorflow/python/eager/polymorphic_function/atomic_function.py\u001b[0m in \u001b[0;36mcall_preflattened\u001b[0;34m(self, args)\u001b[0m\n\u001b[1;32m    214\u001b[0m   \u001b[0;32mdef\u001b[0m \u001b[0mcall_preflattened\u001b[0m\u001b[0;34m(\u001b[0m\u001b[0mself\u001b[0m\u001b[0;34m,\u001b[0m \u001b[0margs\u001b[0m\u001b[0;34m:\u001b[0m \u001b[0mSequence\u001b[0m\u001b[0;34m[\u001b[0m\u001b[0mcore\u001b[0m\u001b[0;34m.\u001b[0m\u001b[0mTensor\u001b[0m\u001b[0;34m]\u001b[0m\u001b[0;34m)\u001b[0m \u001b[0;34m->\u001b[0m \u001b[0mAny\u001b[0m\u001b[0;34m:\u001b[0m\u001b[0;34m\u001b[0m\u001b[0;34m\u001b[0m\u001b[0m\n\u001b[1;32m    215\u001b[0m     \u001b[0;34m\"\"\"Calls with flattened tensor inputs and returns the structured output.\"\"\"\u001b[0m\u001b[0;34m\u001b[0m\u001b[0;34m\u001b[0m\u001b[0m\n\u001b[0;32m--> 216\u001b[0;31m     \u001b[0mflat_outputs\u001b[0m \u001b[0;34m=\u001b[0m \u001b[0mself\u001b[0m\u001b[0;34m.\u001b[0m\u001b[0mcall_flat\u001b[0m\u001b[0;34m(\u001b[0m\u001b[0;34m*\u001b[0m\u001b[0margs\u001b[0m\u001b[0;34m)\u001b[0m\u001b[0;34m\u001b[0m\u001b[0;34m\u001b[0m\u001b[0m\n\u001b[0m\u001b[1;32m    217\u001b[0m     \u001b[0;32mreturn\u001b[0m \u001b[0mself\u001b[0m\u001b[0;34m.\u001b[0m\u001b[0mfunction_type\u001b[0m\u001b[0;34m.\u001b[0m\u001b[0mpack_output\u001b[0m\u001b[0;34m(\u001b[0m\u001b[0mflat_outputs\u001b[0m\u001b[0;34m)\u001b[0m\u001b[0;34m\u001b[0m\u001b[0;34m\u001b[0m\u001b[0m\n\u001b[1;32m    218\u001b[0m \u001b[0;34m\u001b[0m\u001b[0m\n",
            "\u001b[0;32m/usr/local/lib/python3.10/dist-packages/tensorflow/python/eager/polymorphic_function/atomic_function.py\u001b[0m in \u001b[0;36mcall_flat\u001b[0;34m(self, *args)\u001b[0m\n\u001b[1;32m    249\u001b[0m         \u001b[0;32mwith\u001b[0m \u001b[0mrecord\u001b[0m\u001b[0;34m.\u001b[0m\u001b[0mstop_recording\u001b[0m\u001b[0;34m(\u001b[0m\u001b[0;34m)\u001b[0m\u001b[0;34m:\u001b[0m\u001b[0;34m\u001b[0m\u001b[0;34m\u001b[0m\u001b[0m\n\u001b[1;32m    250\u001b[0m           \u001b[0;32mif\u001b[0m \u001b[0mself\u001b[0m\u001b[0;34m.\u001b[0m\u001b[0m_bound_context\u001b[0m\u001b[0;34m.\u001b[0m\u001b[0mexecuting_eagerly\u001b[0m\u001b[0;34m(\u001b[0m\u001b[0;34m)\u001b[0m\u001b[0;34m:\u001b[0m\u001b[0;34m\u001b[0m\u001b[0;34m\u001b[0m\u001b[0m\n\u001b[0;32m--> 251\u001b[0;31m             outputs = self._bound_context.call_function(\n\u001b[0m\u001b[1;32m    252\u001b[0m                 \u001b[0mself\u001b[0m\u001b[0;34m.\u001b[0m\u001b[0mname\u001b[0m\u001b[0;34m,\u001b[0m\u001b[0;34m\u001b[0m\u001b[0;34m\u001b[0m\u001b[0m\n\u001b[1;32m    253\u001b[0m                 \u001b[0mlist\u001b[0m\u001b[0;34m(\u001b[0m\u001b[0margs\u001b[0m\u001b[0;34m)\u001b[0m\u001b[0;34m,\u001b[0m\u001b[0;34m\u001b[0m\u001b[0;34m\u001b[0m\u001b[0m\n",
            "\u001b[0;32m/usr/local/lib/python3.10/dist-packages/tensorflow/python/eager/context.py\u001b[0m in \u001b[0;36mcall_function\u001b[0;34m(self, name, tensor_inputs, num_outputs)\u001b[0m\n\u001b[1;32m   1484\u001b[0m     \u001b[0mcancellation_context\u001b[0m \u001b[0;34m=\u001b[0m \u001b[0mcancellation\u001b[0m\u001b[0;34m.\u001b[0m\u001b[0mcontext\u001b[0m\u001b[0;34m(\u001b[0m\u001b[0;34m)\u001b[0m\u001b[0;34m\u001b[0m\u001b[0;34m\u001b[0m\u001b[0m\n\u001b[1;32m   1485\u001b[0m     \u001b[0;32mif\u001b[0m \u001b[0mcancellation_context\u001b[0m \u001b[0;32mis\u001b[0m \u001b[0;32mNone\u001b[0m\u001b[0;34m:\u001b[0m\u001b[0;34m\u001b[0m\u001b[0;34m\u001b[0m\u001b[0m\n\u001b[0;32m-> 1486\u001b[0;31m       outputs = execute.execute(\n\u001b[0m\u001b[1;32m   1487\u001b[0m           \u001b[0mname\u001b[0m\u001b[0;34m.\u001b[0m\u001b[0mdecode\u001b[0m\u001b[0;34m(\u001b[0m\u001b[0;34m\"utf-8\"\u001b[0m\u001b[0;34m)\u001b[0m\u001b[0;34m,\u001b[0m\u001b[0;34m\u001b[0m\u001b[0;34m\u001b[0m\u001b[0m\n\u001b[1;32m   1488\u001b[0m           \u001b[0mnum_outputs\u001b[0m\u001b[0;34m=\u001b[0m\u001b[0mnum_outputs\u001b[0m\u001b[0;34m,\u001b[0m\u001b[0;34m\u001b[0m\u001b[0;34m\u001b[0m\u001b[0m\n",
            "\u001b[0;32m/usr/local/lib/python3.10/dist-packages/tensorflow/python/eager/execute.py\u001b[0m in \u001b[0;36mquick_execute\u001b[0;34m(op_name, num_outputs, inputs, attrs, ctx, name)\u001b[0m\n\u001b[1;32m     51\u001b[0m   \u001b[0;32mtry\u001b[0m\u001b[0;34m:\u001b[0m\u001b[0;34m\u001b[0m\u001b[0;34m\u001b[0m\u001b[0m\n\u001b[1;32m     52\u001b[0m     \u001b[0mctx\u001b[0m\u001b[0;34m.\u001b[0m\u001b[0mensure_initialized\u001b[0m\u001b[0;34m(\u001b[0m\u001b[0;34m)\u001b[0m\u001b[0;34m\u001b[0m\u001b[0;34m\u001b[0m\u001b[0m\n\u001b[0;32m---> 53\u001b[0;31m     tensors = pywrap_tfe.TFE_Py_Execute(ctx._handle, device_name, op_name,\n\u001b[0m\u001b[1;32m     54\u001b[0m                                         inputs, attrs, num_outputs)\n\u001b[1;32m     55\u001b[0m   \u001b[0;32mexcept\u001b[0m \u001b[0mcore\u001b[0m\u001b[0;34m.\u001b[0m\u001b[0m_NotOkStatusException\u001b[0m \u001b[0;32mas\u001b[0m \u001b[0me\u001b[0m\u001b[0;34m:\u001b[0m\u001b[0;34m\u001b[0m\u001b[0;34m\u001b[0m\u001b[0m\n",
            "\u001b[0;31mKeyboardInterrupt\u001b[0m: "
          ]
        }
      ]
    },
    {
      "cell_type": "code",
      "source": [],
      "metadata": {
        "id": "MQFKG64eljV8"
      },
      "execution_count": null,
      "outputs": []
    }
  ]
}