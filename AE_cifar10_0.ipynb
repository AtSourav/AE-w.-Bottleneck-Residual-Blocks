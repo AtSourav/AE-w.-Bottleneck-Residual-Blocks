{
  "nbformat": 4,
  "nbformat_minor": 0,
  "metadata": {
    "colab": {
      "provenance": [],
      "machine_shape": "hm",
      "gpuType": "T4",
      "authorship_tag": "ABX9TyPD84FO3iQvVsx99xiV02B2",
      "include_colab_link": true
    },
    "kernelspec": {
      "name": "python3",
      "display_name": "Python 3"
    },
    "language_info": {
      "name": "python"
    },
    "accelerator": "GPU"
  },
  "cells": [
    {
      "cell_type": "markdown",
      "metadata": {
        "id": "view-in-github",
        "colab_type": "text"
      },
      "source": [
        "<a href=\"https://colab.research.google.com/github/AtSourav/AE-w.-Bottleneck-Residual-Blocks/blob/main/AE_cifar10_0.ipynb\" target=\"_parent\"><img src=\"https://colab.research.google.com/assets/colab-badge.svg\" alt=\"Open In Colab\"/></a>"
      ]
    },
    {
      "cell_type": "code",
      "execution_count": 1,
      "metadata": {
        "id": "TzqQuE56Qwua"
      },
      "outputs": [],
      "source": [
        "import numpy as np\n",
        "import tensorflow as tf\n",
        "from tensorflow import keras\n",
        "from tensorflow import math\n",
        "import tensorflow_datasets as tfds\n",
        "from keras import losses\n",
        "from keras import layers\n",
        "from keras import utils\n",
        "from keras import metrics\n",
        "from keras import backend as K\n",
        "from keras import initializers\n",
        "\n",
        "import os\n",
        "import random\n",
        "import matplotlib.pyplot as plt"
      ]
    },
    {
      "cell_type": "code",
      "source": [
        "! git clone https://github.com/AtSourav/AE-w.-Bottleneck-Residual-Blocks"
      ],
      "metadata": {
        "id": "G6seL3jUQ9BN",
        "colab": {
          "base_uri": "https://localhost:8080/"
        },
        "outputId": "dd1bdc4a-94e8-4090-8869-083326e05c5a"
      },
      "execution_count": 2,
      "outputs": [
        {
          "output_type": "stream",
          "name": "stdout",
          "text": [
            "fatal: destination path 'AE-w.-Bottleneck-Residual-Blocks' already exists and is not an empty directory.\n"
          ]
        }
      ]
    },
    {
      "cell_type": "code",
      "source": [
        "%cd \"/content/AE-w.-Bottleneck-Residual-Blocks\""
      ],
      "metadata": {
        "colab": {
          "base_uri": "https://localhost:8080/"
        },
        "id": "mpyqftFGUAho",
        "outputId": "8998b7bb-ae92-47da-ed87-5c3a496a1417"
      },
      "execution_count": 3,
      "outputs": [
        {
          "output_type": "stream",
          "name": "stdout",
          "text": [
            "/content/AE-w.-Bottleneck-Residual-Blocks\n"
          ]
        }
      ]
    },
    {
      "cell_type": "code",
      "source": [
        "import plotting_tools as plts\n",
        "import Bottleneck_residual_blocks as resblock"
      ],
      "metadata": {
        "id": "0mHyCe0gUAr2"
      },
      "execution_count": 4,
      "outputs": []
    },
    {
      "cell_type": "code",
      "source": [
        "img_ht = 96\n",
        "img_wd = 96\n",
        "\n",
        "input_size = (img_ht,img_wd,3)\n",
        "latent_dim = 256\n",
        "batch_size = 128\n",
        "\n",
        "initializer = initializers.HeNormal(seed=100)"
      ],
      "metadata": {
        "id": "Ha8JvEgHS208"
      },
      "execution_count": 5,
      "outputs": []
    },
    {
      "cell_type": "code",
      "source": [
        "# we're using a combination of max and min pooling, min pooling in the skip connections in the residual blocks,\n",
        "# max pooling otherwise\n",
        "\n",
        "encoder_input = keras.Input(shape=input_size)\n",
        "\n",
        "x = resblock.conv2d_block(64, 3, initializer)(encoder_input)\n",
        "\n",
        "x = resblock.conv2d_block(64, 3, initializer)(x)\n",
        "\n",
        "# ------------------------------------------------------------------\n",
        "\n",
        "x = resblock.conv2d_block(128, 3, initializer)(x)\n",
        "\n",
        "x = resblock.bottleneck_residual_conv2D_block(128, 2, 3, initializer, 'min')(x)\n",
        "        # the second argument is the compress-ratio for the bottleneck, the third argument is the kernel_size\n",
        "\n",
        "x = layers.MaxPooling2D(pool_size=(3, 3), strides=(2,2), padding=\"valid\")(x)\n",
        "\n",
        "# ------------------------------------------------------------------\n",
        "\n",
        "x = resblock.conv2d_block(256, 3, initializer)(x)\n",
        "\n",
        "x = resblock.bottleneck_residual_conv2D_block(256, 2, 3, initializer, 'min')(x)\n",
        "\n",
        "x = layers.MaxPooling2D(pool_size=(3, 3), strides=(2,2), padding=\"valid\")(x)\n",
        "\n",
        "# -------------------------------------------------------------------\n",
        "\n",
        "x = resblock.conv2d_block(512, 3, initializer)(x)\n",
        "\n",
        "x = resblock.bottleneck_residual_conv2D_block(512, 2, 3, initializer, 'min')(x)\n",
        "\n",
        "x = layers.MaxPooling2D(pool_size=(3, 3), strides=(2,2), padding=\"valid\")(x)\n",
        "\n",
        "# -------------------------------------------------------------------\n",
        "\n",
        "x = resblock.conv2d_block(1024, 3, initializer)(x)\n",
        "\n",
        "x = resblock.bottleneck_residual_conv2D_block(1024, 2, 3, initializer, 'min')(x)\n",
        "\n",
        "x = layers.MaxPooling2D(pool_size=(2, 2), strides=(2,2), padding=\"valid\")(x)\n",
        "\n",
        "# -------------------------------------------------------------------\n",
        "\n",
        "#x = resblock.conv2d_block(2048, 2, initializer)(x)\n",
        "\n",
        "#x = resblock.bottleneck_residual_conv2D_block(2048, 2, 2, initializer, 'min', padding='same')(x)\n",
        "\n",
        "# x = layers.MaxPooling2D(pool_size=(2, 2), strides=(1,1), padding=\"same\")(x)\n",
        "\n",
        "# -------------------------------------------------------------------\n",
        "\n",
        "x = layers.Flatten()(x)\n",
        "\n",
        "x = layers.Dense(2*latent_dim)(x)\n",
        "x = layers.ReLU()(x)\n",
        "\n",
        "z = layers.Dense(latent_dim, name=\"z\")(x)\n",
        "\n",
        "encoder = keras.Model(encoder_input, z, name='encoder')\n",
        "encoder.summary()"
      ],
      "metadata": {
        "colab": {
          "base_uri": "https://localhost:8080/"
        },
        "id": "7jA6O5mv5ZhO",
        "outputId": "3f86d9bf-6f3a-45b4-9e05-9caade5e178e"
      },
      "execution_count": 6,
      "outputs": [
        {
          "output_type": "stream",
          "name": "stdout",
          "text": [
            "Model: \"encoder\"\n",
            "_________________________________________________________________\n",
            " Layer (type)                Output Shape              Param #   \n",
            "=================================================================\n",
            " input_1 (InputLayer)        [(None, 96, 96, 3)]       0         \n",
            "                                                                 \n",
            " conv2d_block (conv2d_block  (None, 94, 94, 64)        2048      \n",
            " )                                                               \n",
            "                                                                 \n",
            " conv2d_block_1 (conv2d_blo  (None, 92, 92, 64)        37184     \n",
            " ck)                                                             \n",
            "                                                                 \n",
            " conv2d_block_2 (conv2d_blo  (None, 90, 90, 128)       74368     \n",
            " ck)                                                             \n",
            "                                                                 \n",
            " bottleneck_residual_conv2d  (None, 88, 88, 128)       54016     \n",
            " _block (bottleneck_residua                                      \n",
            " l_conv2D_block)                                                 \n",
            "                                                                 \n",
            " max_pooling2d_2 (MaxPoolin  (None, 43, 43, 128)       0         \n",
            " g2D)                                                            \n",
            "                                                                 \n",
            " conv2d_block_5 (conv2d_blo  (None, 41, 41, 256)       296192    \n",
            " ck)                                                             \n",
            "                                                                 \n",
            " bottleneck_residual_conv2d  (None, 39, 39, 256)       214528    \n",
            " _block_1 (bottleneck_resid                                      \n",
            " ual_conv2D_block)                                               \n",
            "                                                                 \n",
            " max_pooling2d_5 (MaxPoolin  (None, 19, 19, 256)       0         \n",
            " g2D)                                                            \n",
            "                                                                 \n",
            " conv2d_block_8 (conv2d_blo  (None, 17, 17, 512)       1182208   \n",
            " ck)                                                             \n",
            "                                                                 \n",
            " bottleneck_residual_conv2d  (None, 15, 15, 512)       855040    \n",
            " _block_2 (bottleneck_resid                                      \n",
            " ual_conv2D_block)                                               \n",
            "                                                                 \n",
            " max_pooling2d_8 (MaxPoolin  (None, 7, 7, 512)         0         \n",
            " g2D)                                                            \n",
            "                                                                 \n",
            " conv2d_block_11 (conv2d_bl  (None, 5, 5, 1024)        4723712   \n",
            " ock)                                                            \n",
            "                                                                 \n",
            " bottleneck_residual_conv2d  (None, 3, 3, 1024)        3414016   \n",
            " _block_3 (bottleneck_resid                                      \n",
            " ual_conv2D_block)                                               \n",
            "                                                                 \n",
            " max_pooling2d_11 (MaxPooli  (None, 1, 1, 1024)        0         \n",
            " ng2D)                                                           \n",
            "                                                                 \n",
            " flatten (Flatten)           (None, 1024)              0         \n",
            "                                                                 \n",
            " dense (Dense)               (None, 512)               524800    \n",
            "                                                                 \n",
            " re_lu_18 (ReLU)             (None, 512)               0         \n",
            "                                                                 \n",
            " z (Dense)                   (None, 256)               131328    \n",
            "                                                                 \n",
            "=================================================================\n",
            "Total params: 11509440 (43.91 MB)\n",
            "Trainable params: 11501504 (43.87 MB)\n",
            "Non-trainable params: 7936 (31.00 KB)\n",
            "_________________________________________________________________\n"
          ]
        }
      ]
    },
    {
      "cell_type": "code",
      "source": [
        "latent_input = keras.Input(shape=(latent_dim,))\n",
        "\n",
        "x = layers.Dense(2*latent_dim)(latent_input)\n",
        "x = layers.ReLU()(x)\n",
        "\n",
        "x = layers.Dense(4*latent_dim)(x)\n",
        "x = layers.ReLU()(x)\n",
        "\n",
        "x = layers.Dense(2*2*1024)(x)\n",
        "x = layers.ReLU()(x)\n",
        "\n",
        "x = layers.Reshape((2,2,1024))(x)\n",
        "\n",
        "# ---------------------------------------------------\n",
        "\n",
        "#x = resblock.conv2dtrans_block(1024, 2, initializer, strides=(2,2))(x)\n",
        "\n",
        "x = resblock.bottleneck_residual_conv2Dtrans_block(1024, 2, 3, initializer)(x)\n",
        "\n",
        "# ---------------------------------------------------\n",
        "\n",
        "x = resblock.conv2dtrans_block(512, 3, initializer, strides=(2,2))(x)\n",
        "\n",
        "x = resblock.bottleneck_residual_conv2Dtrans_block(512, 2, 3, initializer)(x)\n",
        "\n",
        "# ---------------------------------------------------\n",
        "\n",
        "x = resblock.conv2dtrans_block(512, 3, initializer, strides=(2,2))(x)\n",
        "\n",
        "x = resblock.bottleneck_residual_conv2Dtrans_block(512, 2, 3, initializer)(x)\n",
        "\n",
        "# ---------------------------------------------------\n",
        "\n",
        "x = resblock.conv2dtrans_block(256, 3, initializer, strides=(2,2))(x)\n",
        "\n",
        "x = resblock.bottleneck_residual_conv2Dtrans_block(256, 2, 3, initializer)(x)\n",
        "\n",
        "x = layers.UpSampling2D(size=(2, 2), interpolation='bilinear')(x)\n",
        "\n",
        "# ---------------------------------------------------\n",
        "\n",
        "x = resblock.bottleneck_residual_conv2D_block(256, 2, 3, initializer, 'min')(x)\n",
        "\n",
        "x = resblock.bottleneck_residual_conv2D_block(256, 2, 3, initializer, 'min')(x)\n",
        "\n",
        "# ---------------------------------------------------\n",
        "\n",
        "x = resblock.conv2d_block(128, 3, initializer)(x)\n",
        "\n",
        "x = resblock.bottleneck_residual_conv2D_block(128, 2, 3, initializer, 'min')(x)\n",
        "\n",
        "# ----------------------------------------------------\n",
        "\n",
        "x = resblock.conv2d_block(64, 2, initializer)(x)\n",
        "\n",
        "x = resblock.bottleneck_residual_conv2D_block(64, 2, 2, initializer, 'min')(x)\n",
        "\n",
        "# -----------------------------------------------------\n",
        "\n",
        "decoder_output = layers.Conv2D(3, 1, activation='sigmoid', padding='valid', kernel_initializer=initializer)(x)\n",
        "\n",
        "decoder = keras.Model(latent_input, decoder_output, name=\"decoder\")\n",
        "decoder.summary()"
      ],
      "metadata": {
        "colab": {
          "base_uri": "https://localhost:8080/"
        },
        "id": "KlItfmO86YPd",
        "outputId": "197cdd57-1e51-46a1-abe3-4682bd8c9f33"
      },
      "execution_count": 8,
      "outputs": [
        {
          "output_type": "stream",
          "name": "stdout",
          "text": [
            "Model: \"decoder\"\n",
            "_________________________________________________________________\n",
            " Layer (type)                Output Shape              Param #   \n",
            "=================================================================\n",
            " input_3 (InputLayer)        [(None, 256)]             0         \n",
            "                                                                 \n",
            " dense_4 (Dense)             (None, 512)               131584    \n",
            "                                                                 \n",
            " re_lu_51 (ReLU)             (None, 512)               0         \n",
            "                                                                 \n",
            " dense_5 (Dense)             (None, 1024)              525312    \n",
            "                                                                 \n",
            " re_lu_52 (ReLU)             (None, 1024)              0         \n",
            "                                                                 \n",
            " dense_6 (Dense)             (None, 4096)              4198400   \n",
            "                                                                 \n",
            " re_lu_53 (ReLU)             (None, 4096)              0         \n",
            "                                                                 \n",
            " reshape_1 (Reshape)         (None, 2, 2, 1024)        0         \n",
            "                                                                 \n",
            " bottleneck_residual_conv2_  (None, 4, 4, 1024)        3414016   \n",
            " dtrans_block_4 (bottleneck                                      \n",
            " _residual_conv2Dtrans_bloc                                      \n",
            " k)                                                              \n",
            "                                                                 \n",
            " conv2dtrans_block_13 (conv  (None, 9, 9, 512)         4721152   \n",
            " 2dtrans_block)                                                  \n",
            "                                                                 \n",
            " bottleneck_residual_conv2_  (None, 11, 11, 512)       855040    \n",
            " dtrans_block_5 (bottleneck                                      \n",
            " _residual_conv2Dtrans_bloc                                      \n",
            " k)                                                              \n",
            "                                                                 \n",
            " conv2dtrans_block_16 (conv  (None, 23, 23, 512)       2361856   \n",
            " 2dtrans_block)                                                  \n",
            "                                                                 \n",
            " bottleneck_residual_conv2_  (None, 25, 25, 512)       855040    \n",
            " dtrans_block_6 (bottleneck                                      \n",
            " _residual_conv2Dtrans_bloc                                      \n",
            " k)                                                              \n",
            "                                                                 \n",
            " conv2dtrans_block_19 (conv  (None, 51, 51, 256)       1180928   \n",
            " 2dtrans_block)                                                  \n",
            "                                                                 \n",
            " bottleneck_residual_conv2_  (None, 53, 53, 256)       214528    \n",
            " dtrans_block_7 (bottleneck                                      \n",
            " _residual_conv2Dtrans_bloc                                      \n",
            " k)                                                              \n",
            "                                                                 \n",
            " up_sampling2d_1 (UpSamplin  (None, 106, 106, 256)     0         \n",
            " g2D)                                                            \n",
            "                                                                 \n",
            " bottleneck_residual_conv2d  (None, 104, 104, 256)     214528    \n",
            " _block_8 (bottleneck_resid                                      \n",
            " ual_conv2D_block)                                               \n",
            "                                                                 \n",
            " bottleneck_residual_conv2d  (None, 102, 102, 256)     214528    \n",
            " _block_9 (bottleneck_resid                                      \n",
            " ual_conv2D_block)                                               \n",
            "                                                                 \n",
            " conv2d_block_28 (conv2d_bl  (None, 100, 100, 128)     295552    \n",
            " ock)                                                            \n",
            "                                                                 \n",
            " bottleneck_residual_conv2d  (None, 98, 98, 128)       54016     \n",
            " _block_10 (bottleneck_resi                                      \n",
            " dual_conv2D_block)                                              \n",
            "                                                                 \n",
            " conv2d_block_31 (conv2d_bl  (None, 97, 97, 64)        33088     \n",
            " ock)                                                            \n",
            "                                                                 \n",
            " bottleneck_residual_conv2d  (None, 96, 96, 64)        8576      \n",
            " _block_11 (bottleneck_resi                                      \n",
            " dual_conv2D_block)                                              \n",
            "                                                                 \n",
            " conv2d_47 (Conv2D)          (None, 96, 96, 3)         195       \n",
            "                                                                 \n",
            "=================================================================\n",
            "Total params: 19278339 (73.54 MB)\n",
            "Trainable params: 19269379 (73.51 MB)\n",
            "Non-trainable params: 8960 (35.00 KB)\n",
            "_________________________________________________________________\n"
          ]
        }
      ]
    },
    {
      "cell_type": "code",
      "source": [
        "decoder_out = decoder(encoder(encoder_input))\n",
        "AE = keras.Model(encoder_input, decoder_out, name='AE')\n",
        "\n",
        "AE.summary()"
      ],
      "metadata": {
        "colab": {
          "base_uri": "https://localhost:8080/"
        },
        "id": "lQ0NZNaMzvso",
        "outputId": "9417570d-c9d1-4287-e5f1-d6a129a94801"
      },
      "execution_count": 9,
      "outputs": [
        {
          "output_type": "stream",
          "name": "stdout",
          "text": [
            "Model: \"AE\"\n",
            "_________________________________________________________________\n",
            " Layer (type)                Output Shape              Param #   \n",
            "=================================================================\n",
            " input_1 (InputLayer)        [(None, 96, 96, 3)]       0         \n",
            "                                                                 \n",
            " encoder (Functional)        (None, 256)               11509440  \n",
            "                                                                 \n",
            " decoder (Functional)        (None, 96, 96, 3)         19278339  \n",
            "                                                                 \n",
            "=================================================================\n",
            "Total params: 30787779 (117.45 MB)\n",
            "Trainable params: 30770883 (117.38 MB)\n",
            "Non-trainable params: 16896 (66.00 KB)\n",
            "_________________________________________________________________\n"
          ]
        }
      ]
    },
    {
      "cell_type": "code",
      "source": [
        "ds = tfds.load('stl10', split='unlabelled[:40%]')"
      ],
      "metadata": {
        "id": "gcAsY7Yo3Iol"
      },
      "execution_count": 10,
      "outputs": []
    },
    {
      "cell_type": "code",
      "source": [
        "ds_to_np = list(ds.as_numpy_iterator())"
      ],
      "metadata": {
        "id": "icqNcKEg345O"
      },
      "execution_count": 11,
      "outputs": []
    },
    {
      "cell_type": "code",
      "source": [
        "random.seed(100)\n",
        "random.shuffle(ds_to_np)\n",
        "img_train = np.array([x['image'] for x in ds_to_np[:30000]])\n",
        "img_valid = np.array([x['image'] for x in ds_to_np[30000:]])\n",
        "\n",
        "img_train = img_train/255\n",
        "img_valid = img_valid/255"
      ],
      "metadata": {
        "id": "EMlM1wZF6P6Z"
      },
      "execution_count": 12,
      "outputs": []
    },
    {
      "cell_type": "code",
      "source": [
        "K.clear_session()"
      ],
      "metadata": {
        "id": "BoiXH9Ot6e2s"
      },
      "execution_count": 36,
      "outputs": []
    },
    {
      "cell_type": "code",
      "source": [
        "optim = keras.optimizers.Adam(learning_rate = 0.001)\n",
        "AE.compile(optimizer=optim,loss='mse')\n",
        "history = AE.fit(img_train, img_train, batch_size=batch_size, validation_data=(img_valid, img_valid), epochs=10, steps_per_epoch=None)"
      ],
      "metadata": {
        "colab": {
          "base_uri": "https://localhost:8080/",
          "height": 1000
        },
        "id": "nw58ZMVW6rhQ",
        "outputId": "666cb0b3-0c79-4454-a015-627a35b2a014"
      },
      "execution_count": 13,
      "outputs": [
        {
          "output_type": "stream",
          "name": "stdout",
          "text": [
            "Epoch 1/10\n"
          ]
        },
        {
          "output_type": "error",
          "ename": "ResourceExhaustedError",
          "evalue": "ignored",
          "traceback": [
            "\u001b[0;31m---------------------------------------------------------------------------\u001b[0m",
            "\u001b[0;31mResourceExhaustedError\u001b[0m                    Traceback (most recent call last)",
            "\u001b[0;32m<ipython-input-13-19750a046851>\u001b[0m in \u001b[0;36m<cell line: 3>\u001b[0;34m()\u001b[0m\n\u001b[1;32m      1\u001b[0m \u001b[0moptim\u001b[0m \u001b[0;34m=\u001b[0m \u001b[0mkeras\u001b[0m\u001b[0;34m.\u001b[0m\u001b[0moptimizers\u001b[0m\u001b[0;34m.\u001b[0m\u001b[0mAdam\u001b[0m\u001b[0;34m(\u001b[0m\u001b[0mlearning_rate\u001b[0m \u001b[0;34m=\u001b[0m \u001b[0;36m0.001\u001b[0m\u001b[0;34m)\u001b[0m\u001b[0;34m\u001b[0m\u001b[0;34m\u001b[0m\u001b[0m\n\u001b[1;32m      2\u001b[0m \u001b[0mAE\u001b[0m\u001b[0;34m.\u001b[0m\u001b[0mcompile\u001b[0m\u001b[0;34m(\u001b[0m\u001b[0moptimizer\u001b[0m\u001b[0;34m=\u001b[0m\u001b[0moptim\u001b[0m\u001b[0;34m,\u001b[0m\u001b[0mloss\u001b[0m\u001b[0;34m=\u001b[0m\u001b[0;34m'mse'\u001b[0m\u001b[0;34m)\u001b[0m\u001b[0;34m\u001b[0m\u001b[0;34m\u001b[0m\u001b[0m\n\u001b[0;32m----> 3\u001b[0;31m \u001b[0mhistory\u001b[0m \u001b[0;34m=\u001b[0m \u001b[0mAE\u001b[0m\u001b[0;34m.\u001b[0m\u001b[0mfit\u001b[0m\u001b[0;34m(\u001b[0m\u001b[0mimg_train\u001b[0m\u001b[0;34m,\u001b[0m \u001b[0mimg_train\u001b[0m\u001b[0;34m,\u001b[0m \u001b[0mbatch_size\u001b[0m\u001b[0;34m=\u001b[0m\u001b[0mbatch_size\u001b[0m\u001b[0;34m,\u001b[0m \u001b[0mvalidation_data\u001b[0m\u001b[0;34m=\u001b[0m\u001b[0;34m(\u001b[0m\u001b[0mimg_valid\u001b[0m\u001b[0;34m,\u001b[0m \u001b[0mimg_valid\u001b[0m\u001b[0;34m)\u001b[0m\u001b[0;34m,\u001b[0m \u001b[0mepochs\u001b[0m\u001b[0;34m=\u001b[0m\u001b[0;36m10\u001b[0m\u001b[0;34m,\u001b[0m \u001b[0msteps_per_epoch\u001b[0m\u001b[0;34m=\u001b[0m\u001b[0;32mNone\u001b[0m\u001b[0;34m)\u001b[0m\u001b[0;34m\u001b[0m\u001b[0;34m\u001b[0m\u001b[0m\n\u001b[0m",
            "\u001b[0;32m/usr/local/lib/python3.10/dist-packages/keras/src/utils/traceback_utils.py\u001b[0m in \u001b[0;36merror_handler\u001b[0;34m(*args, **kwargs)\u001b[0m\n\u001b[1;32m     68\u001b[0m             \u001b[0;31m# To get the full stack trace, call:\u001b[0m\u001b[0;34m\u001b[0m\u001b[0;34m\u001b[0m\u001b[0m\n\u001b[1;32m     69\u001b[0m             \u001b[0;31m# `tf.debugging.disable_traceback_filtering()`\u001b[0m\u001b[0;34m\u001b[0m\u001b[0;34m\u001b[0m\u001b[0m\n\u001b[0;32m---> 70\u001b[0;31m             \u001b[0;32mraise\u001b[0m \u001b[0me\u001b[0m\u001b[0;34m.\u001b[0m\u001b[0mwith_traceback\u001b[0m\u001b[0;34m(\u001b[0m\u001b[0mfiltered_tb\u001b[0m\u001b[0;34m)\u001b[0m \u001b[0;32mfrom\u001b[0m \u001b[0;32mNone\u001b[0m\u001b[0;34m\u001b[0m\u001b[0;34m\u001b[0m\u001b[0m\n\u001b[0m\u001b[1;32m     71\u001b[0m         \u001b[0;32mfinally\u001b[0m\u001b[0;34m:\u001b[0m\u001b[0;34m\u001b[0m\u001b[0;34m\u001b[0m\u001b[0m\n\u001b[1;32m     72\u001b[0m             \u001b[0;32mdel\u001b[0m \u001b[0mfiltered_tb\u001b[0m\u001b[0;34m\u001b[0m\u001b[0;34m\u001b[0m\u001b[0m\n",
            "\u001b[0;32m/usr/local/lib/python3.10/dist-packages/tensorflow/python/eager/execute.py\u001b[0m in \u001b[0;36mquick_execute\u001b[0;34m(op_name, num_outputs, inputs, attrs, ctx, name)\u001b[0m\n\u001b[1;32m     51\u001b[0m   \u001b[0;32mtry\u001b[0m\u001b[0;34m:\u001b[0m\u001b[0;34m\u001b[0m\u001b[0;34m\u001b[0m\u001b[0m\n\u001b[1;32m     52\u001b[0m     \u001b[0mctx\u001b[0m\u001b[0;34m.\u001b[0m\u001b[0mensure_initialized\u001b[0m\u001b[0;34m(\u001b[0m\u001b[0;34m)\u001b[0m\u001b[0;34m\u001b[0m\u001b[0;34m\u001b[0m\u001b[0m\n\u001b[0;32m---> 53\u001b[0;31m     tensors = pywrap_tfe.TFE_Py_Execute(ctx._handle, device_name, op_name,\n\u001b[0m\u001b[1;32m     54\u001b[0m                                         inputs, attrs, num_outputs)\n\u001b[1;32m     55\u001b[0m   \u001b[0;32mexcept\u001b[0m \u001b[0mcore\u001b[0m\u001b[0;34m.\u001b[0m\u001b[0m_NotOkStatusException\u001b[0m \u001b[0;32mas\u001b[0m \u001b[0me\u001b[0m\u001b[0;34m:\u001b[0m\u001b[0;34m\u001b[0m\u001b[0;34m\u001b[0m\u001b[0m\n",
            "\u001b[0;31mResourceExhaustedError\u001b[0m: Graph execution error:\n\nDetected at node AE/decoder/conv2dtrans_block_16/conv2d_transpose_22/conv2d_transpose defined at (most recent call last):\n  File \"/usr/lib/python3.10/runpy.py\", line 196, in _run_module_as_main\n\n  File \"/usr/lib/python3.10/runpy.py\", line 86, in _run_code\n\n  File \"/usr/local/lib/python3.10/dist-packages/colab_kernel_launcher.py\", line 37, in <module>\n\n  File \"/usr/local/lib/python3.10/dist-packages/traitlets/config/application.py\", line 992, in launch_instance\n\n  File \"/usr/local/lib/python3.10/dist-packages/ipykernel/kernelapp.py\", line 619, in start\n\n  File \"/usr/local/lib/python3.10/dist-packages/tornado/platform/asyncio.py\", line 195, in start\n\n  File \"/usr/lib/python3.10/asyncio/base_events.py\", line 603, in run_forever\n\n  File \"/usr/lib/python3.10/asyncio/base_events.py\", line 1909, in _run_once\n\n  File \"/usr/lib/python3.10/asyncio/events.py\", line 80, in _run\n\n  File \"/usr/local/lib/python3.10/dist-packages/tornado/ioloop.py\", line 685, in <lambda>\n\n  File \"/usr/local/lib/python3.10/dist-packages/tornado/ioloop.py\", line 738, in _run_callback\n\n  File \"/usr/local/lib/python3.10/dist-packages/tornado/gen.py\", line 825, in inner\n\n  File \"/usr/local/lib/python3.10/dist-packages/tornado/gen.py\", line 786, in run\n\n  File \"/usr/local/lib/python3.10/dist-packages/ipykernel/kernelbase.py\", line 361, in process_one\n\n  File \"/usr/local/lib/python3.10/dist-packages/tornado/gen.py\", line 234, in wrapper\n\n  File \"/usr/local/lib/python3.10/dist-packages/ipykernel/kernelbase.py\", line 261, in dispatch_shell\n\n  File \"/usr/local/lib/python3.10/dist-packages/tornado/gen.py\", line 234, in wrapper\n\n  File \"/usr/local/lib/python3.10/dist-packages/ipykernel/kernelbase.py\", line 539, in execute_request\n\n  File \"/usr/local/lib/python3.10/dist-packages/tornado/gen.py\", line 234, in wrapper\n\n  File \"/usr/local/lib/python3.10/dist-packages/ipykernel/ipkernel.py\", line 302, in do_execute\n\n  File \"/usr/local/lib/python3.10/dist-packages/ipykernel/zmqshell.py\", line 539, in run_cell\n\n  File \"/usr/local/lib/python3.10/dist-packages/IPython/core/interactiveshell.py\", line 2975, in run_cell\n\n  File \"/usr/local/lib/python3.10/dist-packages/IPython/core/interactiveshell.py\", line 3030, in _run_cell\n\n  File \"/usr/local/lib/python3.10/dist-packages/IPython/core/async_helpers.py\", line 78, in _pseudo_sync_runner\n\n  File \"/usr/local/lib/python3.10/dist-packages/IPython/core/interactiveshell.py\", line 3257, in run_cell_async\n\n  File \"/usr/local/lib/python3.10/dist-packages/IPython/core/interactiveshell.py\", line 3473, in run_ast_nodes\n\n  File \"/usr/local/lib/python3.10/dist-packages/IPython/core/interactiveshell.py\", line 3553, in run_code\n\n  File \"<ipython-input-13-19750a046851>\", line 3, in <cell line: 3>\n\n  File \"/usr/local/lib/python3.10/dist-packages/keras/src/utils/traceback_utils.py\", line 65, in error_handler\n\n  File \"/usr/local/lib/python3.10/dist-packages/keras/src/engine/training.py\", line 1807, in fit\n\n  File \"/usr/local/lib/python3.10/dist-packages/keras/src/engine/training.py\", line 1401, in train_function\n\n  File \"/usr/local/lib/python3.10/dist-packages/keras/src/engine/training.py\", line 1384, in step_function\n\n  File \"/usr/local/lib/python3.10/dist-packages/keras/src/engine/training.py\", line 1373, in run_step\n\n  File \"/usr/local/lib/python3.10/dist-packages/keras/src/engine/training.py\", line 1150, in train_step\n\n  File \"/usr/local/lib/python3.10/dist-packages/keras/src/utils/traceback_utils.py\", line 65, in error_handler\n\n  File \"/usr/local/lib/python3.10/dist-packages/keras/src/engine/training.py\", line 590, in __call__\n\n  File \"/usr/local/lib/python3.10/dist-packages/keras/src/utils/traceback_utils.py\", line 65, in error_handler\n\n  File \"/usr/local/lib/python3.10/dist-packages/keras/src/engine/base_layer.py\", line 1149, in __call__\n\n  File \"/usr/local/lib/python3.10/dist-packages/keras/src/utils/traceback_utils.py\", line 96, in error_handler\n\n  File \"/usr/local/lib/python3.10/dist-packages/keras/src/engine/functional.py\", line 515, in call\n\n  File \"/usr/local/lib/python3.10/dist-packages/keras/src/engine/functional.py\", line 672, in _run_internal_graph\n\n  File \"/usr/local/lib/python3.10/dist-packages/keras/src/utils/traceback_utils.py\", line 65, in error_handler\n\n  File \"/usr/local/lib/python3.10/dist-packages/keras/src/engine/training.py\", line 590, in __call__\n\n  File \"/usr/local/lib/python3.10/dist-packages/keras/src/utils/traceback_utils.py\", line 65, in error_handler\n\n  File \"/usr/local/lib/python3.10/dist-packages/keras/src/engine/base_layer.py\", line 1149, in __call__\n\n  File \"/usr/local/lib/python3.10/dist-packages/keras/src/utils/traceback_utils.py\", line 96, in error_handler\n\n  File \"/usr/local/lib/python3.10/dist-packages/keras/src/engine/functional.py\", line 515, in call\n\n  File \"/usr/local/lib/python3.10/dist-packages/keras/src/engine/functional.py\", line 672, in _run_internal_graph\n\n  File \"/usr/local/lib/python3.10/dist-packages/keras/src/utils/traceback_utils.py\", line 65, in error_handler\n\n  File \"/usr/local/lib/python3.10/dist-packages/keras/src/engine/base_layer.py\", line 1149, in __call__\n\n  File \"/usr/local/lib/python3.10/dist-packages/keras/src/utils/traceback_utils.py\", line 96, in error_handler\n\n  File \"/content/AE-w.-Bottleneck-Residual-Blocks/Bottleneck_residual_blocks.py\", line 66, in call\n\n  File \"/usr/local/lib/python3.10/dist-packages/keras/src/utils/traceback_utils.py\", line 65, in error_handler\n\n  File \"/usr/local/lib/python3.10/dist-packages/keras/src/engine/base_layer.py\", line 1149, in __call__\n\n  File \"/usr/local/lib/python3.10/dist-packages/keras/src/utils/traceback_utils.py\", line 96, in error_handler\n\n  File \"/usr/local/lib/python3.10/dist-packages/keras/src/layers/convolutional/conv2d_transpose.py\", line 296, in call\n\n  File \"/usr/local/lib/python3.10/dist-packages/keras/src/backend.py\", line 6268, in conv2d_transpose\n\nOOM when allocating tensor with shape[128,512,23,23] and type float on /job:localhost/replica:0/task:0/device:GPU:0 by allocator GPU_0_bfc\n\t [[{{node AE/decoder/conv2dtrans_block_16/conv2d_transpose_22/conv2d_transpose}}]]\nHint: If you want to see a list of allocated tensors when OOM happens, add report_tensor_allocations_upon_oom to RunOptions for current allocation info. This isn't available when running in Eager mode.\n [Op:__inference_train_function_102325]"
          ]
        }
      ]
    },
    {
      "cell_type": "code",
      "source": [],
      "metadata": {
        "id": "rFBuXV9Y635K"
      },
      "execution_count": null,
      "outputs": []
    }
  ]
}